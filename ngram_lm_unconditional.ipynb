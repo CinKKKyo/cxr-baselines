{
 "cells": [
  {
   "cell_type": "code",
   "execution_count": 10,
   "metadata": {},
   "outputs": [],
   "source": [
    "import numpy as np\n",
    "import pandas as pd\n",
    "import os\n",
    "import pydicom as dicom\n",
    "from report_parser import parse_report\n",
    "from collections import Counter, defaultdict"
   ]
  },
  {
   "cell_type": "code",
   "execution_count": 4,
   "metadata": {},
   "outputs": [],
   "source": [
    "csv_file_path = '/crimea/mimic-cxr/mimic-cxr-map.csv'\n",
    "images_path = '/crimea/mimic-cxr/_images'\n",
    "reports_path = '/crimea/mimic-cxr/reports'"
   ]
  },
  {
   "cell_type": "code",
   "execution_count": 5,
   "metadata": {},
   "outputs": [
    {
     "data": {
      "text/html": [
       "<div>\n",
       "<style scoped>\n",
       "    .dataframe tbody tr th:only-of-type {\n",
       "        vertical-align: middle;\n",
       "    }\n",
       "\n",
       "    .dataframe tbody tr th {\n",
       "        vertical-align: top;\n",
       "    }\n",
       "\n",
       "    .dataframe thead th {\n",
       "        text-align: right;\n",
       "    }\n",
       "</style>\n",
       "<table border=\"1\" class=\"dataframe\">\n",
       "  <thead>\n",
       "    <tr style=\"text-align: right;\">\n",
       "      <th></th>\n",
       "      <th>subject_id</th>\n",
       "      <th>rad_id</th>\n",
       "      <th>dicom_id</th>\n",
       "      <th>dicom_is_available</th>\n",
       "    </tr>\n",
       "  </thead>\n",
       "  <tbody>\n",
       "    <tr>\n",
       "      <th>0</th>\n",
       "      <td>70233355</td>\n",
       "      <td>52727485</td>\n",
       "      <td>3b9565f5-69ab0d33-1a9d2d1b-bb09c424-7f0243e6</td>\n",
       "      <td>True</td>\n",
       "    </tr>\n",
       "    <tr>\n",
       "      <th>1</th>\n",
       "      <td>70233355</td>\n",
       "      <td>52727485</td>\n",
       "      <td>8074bd10-62acdde0-3df2608b-13ca2322-09ce372c</td>\n",
       "      <td>True</td>\n",
       "    </tr>\n",
       "    <tr>\n",
       "      <th>2</th>\n",
       "      <td>70233355</td>\n",
       "      <td>53378012</td>\n",
       "      <td>3108d905-782ffdc0-209309e8-2413eeb4-6bfb958a</td>\n",
       "      <td>True</td>\n",
       "    </tr>\n",
       "    <tr>\n",
       "      <th>3</th>\n",
       "      <td>70233355</td>\n",
       "      <td>53378012</td>\n",
       "      <td>40eab5a8-31446771-08c6b024-2717a65c-41f8c74f</td>\n",
       "      <td>True</td>\n",
       "    </tr>\n",
       "    <tr>\n",
       "      <th>4</th>\n",
       "      <td>70233355</td>\n",
       "      <td>55587989</td>\n",
       "      <td>cef1a7ea-8c7df75c-41070128-7cdf5c89-23682e1b</td>\n",
       "      <td>True</td>\n",
       "    </tr>\n",
       "  </tbody>\n",
       "</table>\n",
       "</div>"
      ],
      "text/plain": [
       "   subject_id    rad_id                                      dicom_id  \\\n",
       "0    70233355  52727485  3b9565f5-69ab0d33-1a9d2d1b-bb09c424-7f0243e6   \n",
       "1    70233355  52727485  8074bd10-62acdde0-3df2608b-13ca2322-09ce372c   \n",
       "2    70233355  53378012  3108d905-782ffdc0-209309e8-2413eeb4-6bfb958a   \n",
       "3    70233355  53378012  40eab5a8-31446771-08c6b024-2717a65c-41f8c74f   \n",
       "4    70233355  55587989  cef1a7ea-8c7df75c-41070128-7cdf5c89-23682e1b   \n",
       "\n",
       "   dicom_is_available  \n",
       "0                True  \n",
       "1                True  \n",
       "2                True  \n",
       "3                True  \n",
       "4                True  "
      ]
     },
     "metadata": {},
     "output_type": "display_data"
    }
   ],
   "source": [
    "df =  pd.read_csv(csv_file_path, sep=',', header=0)\n",
    "df = df.loc[df['dicom_is_available'],:]\n",
    "df.reset_index()\n",
    "display(df.head())"
   ]
  },
  {
   "cell_type": "code",
   "execution_count": 6,
   "metadata": {},
   "outputs": [
    {
     "name": "stdout",
     "output_type": "stream",
     "text": [
      "images:   91664\n",
      "reports: 206574\n"
     ]
    }
   ],
   "source": [
    "image_files  = set(os.listdir(images_path))\n",
    "report_files = set(os.listdir(reports_path))\n",
    "\n",
    "print('images:  %6d' % len(image_files))\n",
    "print('reports: %6d' % len(report_files))"
   ]
  },
  {
   "cell_type": "code",
   "execution_count": 8,
   "metadata": {},
   "outputs": [
    {
     "name": "stdout",
     "output_type": "stream",
     "text": [
      "40027\n"
     ]
    }
   ],
   "source": [
    "captioned = {}\n",
    "for idx, row in df.iterrows():\n",
    "    dicom_file  = str(row['dicom_id'])+'.dcm'\n",
    "    report_file = str(row['rad_id'])+'.txt'\n",
    "    if (dicom_file in image_files) and (report_file in report_files):\n",
    "        captioned[row['rad_id']] = (dicom_file,report_file)\n",
    "        \n",
    "print(len(captioned))"
   ]
  },
  {
   "cell_type": "code",
   "execution_count": 11,
   "metadata": {},
   "outputs": [
    {
     "name": "stdout",
     "output_type": "stream",
     "text": [
      "===================================================\n",
      "Patient ID: 77631843\n",
      "there is no focal consolidation or pneumothorax. there is a NAME left pleural effusion with underlying atelectasis, decreased since DATE. postsurgical changes in the left lung are stable. the cardiomediastinal silhouette is shifted to the left, unchanged since the prior exam and likely due to volume loss. the imaged upper abdomen is unremarkable. the bones are intact.\n",
      "===================================================\n",
      "Patient ID: 4029\n",
      "cardiomediastinal silhouette is stable. the heart is not enlarged. there is no focal consolidation, pleural effusion, or pneumothorax. no pulmonary edema. multilevel degenerative changes in the NAME are noted.\n",
      "===================================================\n",
      "Patient ID: 73114826\n",
      "the lungs are clear without consolidation or edema. there is no pleural effusion or pneumothorax. the cardiomediastinal silhouette is normal.\n",
      "===================================================\n",
      "Patient ID: 71581571\n",
      "the cardiac, mediastinal and hilar contours are normal. lungs are clear. no pleural effusion or pneumothorax is seen. no acute osseous abnormalities are detected.\n",
      "===================================================\n",
      "Patient ID: 75309451\n",
      "as compared to the previous radiograph, the pre-existing right upper lobe pneumonia has completely resolved. on today's image, no evidence of infection is seen. otherwise, unchanged left rib deformities and postop status. normal size of the cardiac silhouette.\n",
      "===================================================\n",
      "Patient ID: 72476489\n",
      "right-sided picc terminates at the junction of the svc and right atrium. heart size is normal. mediastinal and hilar contours are unremarkable. pulmonary vasculature is normal. linear opacities within the left lung base likely reflect subsegmental atelectasis. scarring within the lung apices is noted. no focal consolidation, pleural effusion or pneumothorax is present. no acute osseous abnormalities demonstrated.\n",
      "===================================================\n",
      "Patient ID: 75389802\n",
      "cardiac silhouette size is normal. mediastinal and hilar contours are within normal limits. pulmonary vasculature is normal. streaky linear opacities in the left lower lobe likely reflect areas of atelectasis. NAME bilateral pleural effusions are present, as seen on the previous exam. no pneumothorax is present. there are mild multilevel degenerative changes in the NAME NAME.\n",
      "===================================================\n",
      "Patient ID: 72538751\n",
      "===================================================\n",
      "Patient ID: 75521058\n",
      "===================================================\n",
      "Patient ID: 76593685\n",
      "flattening of the diaphragms and prominent interstitial markings at the bases are compatible with copd. heart and mediastinal contours are normal. no consolidation, effusion, or pneumothorax is identified.\n",
      "===================================================\n",
      "Patient ID: 47758\n",
      "===================================================\n",
      "Patient ID: 79306350\n",
      "===================================================\n",
      "Patient ID: 71471857\n",
      "in comparison with study of DATE, there has been essentially complete clearing of the left mid zone consolidation. blunting of the left costophrenic angle persists with some apparent atelectatic changes at the left base. no evidence of pulmonary vascular congestion.\n",
      "===================================================\n",
      "Patient ID: 98226\n",
      "as compared to the previous radiograph, there is no relevant change. the monitoring and support devices are constant. there is unchanged appearance of the low lung volumes and the moderate retrocardiac atelectasis as well as the mildly enlarged cardiac silhouette. no larger pleural effusions. no newly appeared focal parenchymal opacities.\n",
      "===================================================\n",
      "Patient ID: 54817\n",
      "cardiac silhouette remains moderately enlarged slightly increased from prior exam. there has been interval increase in central pulmonary vascular engorgement as well as interstitial edema. a focal right lower lung consolidation has increased in severity and is worrisome for pneumonia. there is no large pleural effusion or pneumothorax. a right internal jugular central venous catheter is unchanged in position.\n"
     ]
    }
   ],
   "source": [
    "# Display a few notes\n",
    "N = 15\n",
    "first_n = dict(list(captioned.items())[:N])\n",
    "for rad_id,(dicom_file,report_file) in first_n.items():\n",
    "\n",
    "    dicom_path = os.path.join(images_path,dicom_file)\n",
    "    plan = dicom.read_file(dicom_path, stop_before_pixels=False)\n",
    "    parsed_report = parse_report(os.path.join(reports_path,report_file))\n",
    "\n",
    "    print('===================================================')\n",
    "    print('Patient ID:', plan.PatientID)\n",
    "    if 'findings' in parsed_report:\n",
    "        print(parsed_report['findings'])\n",
    "\n",
    "    #break"
   ]
  },
  {
   "cell_type": "code",
   "execution_count": 12,
   "metadata": {},
   "outputs": [
    {
     "name": "stdout",
     "output_type": "stream",
     "text": [
      "train:  1050\n",
      "test:   450\n"
     ]
    }
   ],
   "source": [
    "# Sort rad_ids into train or test\n",
    "N = 1500\n",
    "cohort = list(captioned.items())[:N]\n",
    "\n",
    "ind = int(0.70*N)\n",
    "\n",
    "train_cohort = cohort[:ind]\n",
    "test_cohort  = cohort[ ind:]\n",
    "\n",
    "print('train: ', len(train_cohort))\n",
    "print('test:  ', len(test_cohort))"
   ]
  },
  {
   "cell_type": "code",
   "execution_count": 13,
   "metadata": {},
   "outputs": [],
   "source": [
    "n = 3"
   ]
  },
  {
   "cell_type": "code",
   "execution_count": 16,
   "metadata": {},
   "outputs": [
    {
     "name": "stdout",
     "output_type": "stream",
     "text": [
      "(('<START>', '<START>'), Counter({'the': 160, 'pa': 71, 'there': 57, 'frontal': 57, 'as': 52, 'in': 36, 'ap': 30, 'heart': 22, 'a': 19, 'compared': 18, 'lung': 15, 'cardiac': 10, 'no': 10, 'lungs': 9, 'cardiomediastinal': 9, 'comparison': 8, 'right': 8, 'single': 8, 'NAME': 8, '<END>': 5, 'since': 5, 'interval': 5, 'moderate': 4, 'patient': 4, 'tip': 4, 'mild': 4, 'cardiac,': 3, 'bibasilar': 3, 'left-sided': 3, 'low': 3, 'right-sided': 3, 'increased': 3, 'dual': 2, 'stable': 2, 'again': 2, 'one': 2, '2': 2, 'endotracheal': 2, 'previously': 2, 'et': 2, 'severe': 2, 'portable': 2, 'study': 2, 'tracheostomy': 2, 'left': 2, 'air': 1, 'indwelling': 1, 'lordotic': 1, 'eventration': 1, 'significantly': 1, 'bilateral': 1, 'central': 1, 'persistent': 1, 'new': 1, 'borderline': 1, 'pacemaker': 1, 'two': 1, 'redemonstrated': 1, 'slightly': 1, 'technologist': 1, 'radiodense': 1, 'image': 1, 'NAME-pyloric': 1, 'substantially': 1, 'lower': 1, 'large': 1, 'dual-lead': 1, 'assessment': 1, 'consolidation': 1, 'status': 1, 'normal': 1, 'on': 1, 'flattening': 1, 'relatively': 1, 'subtle': 1, 'confluent': 1, 'at': 1, 'somewhat': 1, 'all': 1, 'trace': 1, 'thumb': 1, 'allowing': 1, 'less': 1, 'airspace': 1, 'multiple': 1}))\n"
     ]
    }
   ],
   "source": [
    "# Build ngrams for inputs & outputs\n",
    "\n",
    "\n",
    "LM = defaultdict(Counter)\n",
    "for rad_id,(dicom_file,report_file) in train_cohort:\n",
    "\n",
    "    dicom_path = os.path.join(images_path,dicom_file)\n",
    "    plan = dicom.read_file(dicom_path, stop_before_pixels=False)\n",
    "    parsed_report = parse_report(os.path.join(reports_path,report_file))\n",
    "\n",
    "    if 'findings' in parsed_report:\n",
    "        toks = parsed_report['findings'].replace('.', ' . ').split()\n",
    "        padded_toks = ['<START>' for _ in range(n-1)] + toks + ['<END>']\n",
    "        for i in range(len(padded_toks)-n+1):\n",
    "            context = tuple(padded_toks[i:i+n-1])\n",
    "            target = padded_toks[i+n-1]\n",
    "            \n",
    "            LM[context][target] += 1\n",
    "            \n",
    "print(sorted(LM.items(), key=lambda t:sum(t[1].values()))[-1])"
   ]
  },
  {
   "cell_type": "code",
   "execution_count": 19,
   "metadata": {},
   "outputs": [
    {
     "name": "stdout",
     "output_type": "stream",
     "text": [
      "12\n",
      "['<START>', '<START>', 'pa', 'and', 'lateral', 'views', 'of', 'the', 'NAME', 'aorta', '.', '<END>']\n"
     ]
    }
   ],
   "source": [
    "def sample(seq_so_far):\n",
    "    #print(seq_so_far)\n",
    "    last = tuple(seq_so_far[-n+1:])\n",
    "    words,P = list(zip(*LM[last].items()))\n",
    "    P = np.array(P) / sum(P)\n",
    "    choice = np.random.choice(words, p=P)\n",
    "    return choice\n",
    "    #y = clf.predict(x)[0]\n",
    "    #next_word = y_vect.translate(y)\n",
    "    #return next_word\n",
    "    \n",
    "#seq = ['<START>', '<START>', 'cardiac', 'silhouette']\n",
    "seq = ['<START>' for _ in range(n-1)]\n",
    "current = seq[-1]\n",
    "while current != '<END>' and len(seq)<100:\n",
    "    next_word = sample(seq)\n",
    "    #print(next_word)\n",
    "    seq.append(next_word)\n",
    "    current = next_word\n",
    "    #break\n",
    "    \n",
    "print(len(seq))\n",
    "print(seq)"
   ]
  },
  {
   "cell_type": "markdown",
   "metadata": {},
   "source": [
    "<h1>Evaluation</h1>"
   ]
  },
  {
   "cell_type": "code",
   "execution_count": 30,
   "metadata": {},
   "outputs": [],
   "source": [
    "# TODO: actual scoring functions\n",
    "def bleu(ref_toks, pred_toks):\n",
    "    return 0.5\n",
    "\n",
    "def meteor(ref_toks, pred_toks):\n",
    "    return 0.7\n",
    "\n",
    "def cider(ref_toks, pred_toks):\n",
    "    return 0.1"
   ]
  },
  {
   "cell_type": "code",
   "execution_count": 31,
   "metadata": {},
   "outputs": [
    {
     "name": "stdout",
     "output_type": "stream",
     "text": [
      "58001075\n",
      "\n",
      "generated\n",
      "['in', 'comparison', 'with', 'study', 'of', 'DATE,', 'there', 'is', 'persistent', 'apparent', 'blunting', 'of', 'the', 'cardiac', 'silhouette', '.', 'no', 'pneumothorax', '.', 'old', 'right', 'lateral', 'rib', 'deformities', 'are', 'noted,', 'chronicity', 'indeterminate', '.', '<END>']\n"
     ]
    }
   ],
   "source": [
    "bleus = []\n",
    "for rad_id,(dicom_file,report_file) in test_cohort:\n",
    "    dicom_path = os.path.join(images_path,dicom_file)\n",
    "    plan = dicom.read_file(dicom_path, stop_before_pixels=False)\n",
    "    parsed_report = parse_report(os.path.join(reports_path,report_file))\n",
    "    \n",
    "    if 'findings' not in parsed_report:\n",
    "        continue\n",
    "     \n",
    "    print(rad_id)\n",
    "    print()\n",
    "    \n",
    "    # get reference report\n",
    "    reference_toks = parsed_report['findings'].replace('.', ' . ').split()\n",
    "    \n",
    "    # get generated report using the above method\n",
    "    generated_toks = ['<START>' for _ in range(n-1)]\n",
    "    current = generated_toks[-1]\n",
    "    while current != '<END>' and len(generated_toks)<100:\n",
    "        next_word = sample(generated_toks)\n",
    "        #print(next_word)\n",
    "        generated_toks.append(next_word)\n",
    "        current = next_word\n",
    "        #break\n",
    "    generated_toks = generated_toks[n-1:]\n",
    "        \n",
    "    print('generated')\n",
    "    print(generated_toks)\n",
    "    \n",
    "    # Compute eval metrics\n",
    "    B = bleu(reference_toks, generated_toks)\n",
    "    bleus.append(B)\n",
    "    \n",
    "    break"
   ]
  },
  {
   "cell_type": "code",
   "execution_count": null,
   "metadata": {},
   "outputs": [],
   "source": []
  }
 ],
 "metadata": {
  "kernelspec": {
   "display_name": "Python 3",
   "language": "python",
   "name": "python3"
  },
  "language_info": {
   "codemirror_mode": {
    "name": "ipython",
    "version": 3
   },
   "file_extension": ".py",
   "mimetype": "text/x-python",
   "name": "python",
   "nbconvert_exporter": "python",
   "pygments_lexer": "ipython3",
   "version": "3.5.2"
  }
 },
 "nbformat": 4,
 "nbformat_minor": 2
}
