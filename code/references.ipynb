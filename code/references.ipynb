{
 "cells": [
  {
   "cell_type": "code",
   "execution_count": 15,
   "metadata": {},
   "outputs": [],
   "source": [
    "from time import gmtime, strftime\n",
    "import numpy as np\n",
    "import pandas as pd\n",
    "import os\n",
    "import dicom\n",
    "from report_parser import parse_report\n",
    "import pickle \n",
    "import tqdm"
   ]
  },
  {
   "cell_type": "code",
   "execution_count": 16,
   "metadata": {},
   "outputs": [
    {
     "name": "stdout",
     "output_type": "stream",
     "text": [
      "(99145, 7)\n"
     ]
    },
    {
     "data": {
      "text/html": [
       "<div>\n",
       "<style scoped>\n",
       "    .dataframe tbody tr th:only-of-type {\n",
       "        vertical-align: middle;\n",
       "    }\n",
       "\n",
       "    .dataframe tbody tr th {\n",
       "        vertical-align: top;\n",
       "    }\n",
       "\n",
       "    .dataframe thead th {\n",
       "        text-align: right;\n",
       "    }\n",
       "</style>\n",
       "<table border=\"1\" class=\"dataframe\">\n",
       "  <thead>\n",
       "    <tr style=\"text-align: right;\">\n",
       "      <th></th>\n",
       "      <th>Unnamed: 0</th>\n",
       "      <th>Unnamed: 0.1</th>\n",
       "      <th>Unnamed: 0.1.1</th>\n",
       "      <th>subject_id</th>\n",
       "      <th>rad_id</th>\n",
       "      <th>dicom_id</th>\n",
       "      <th>dicom_is_available</th>\n",
       "    </tr>\n",
       "  </thead>\n",
       "  <tbody>\n",
       "    <tr>\n",
       "      <th>0</th>\n",
       "      <td>0</td>\n",
       "      <td>0</td>\n",
       "      <td>27</td>\n",
       "      <td>73451872</td>\n",
       "      <td>55507110</td>\n",
       "      <td>f1a7e903-618a45fe-84eb71e2-73901894-a689d584</td>\n",
       "      <td>True</td>\n",
       "    </tr>\n",
       "    <tr>\n",
       "      <th>1</th>\n",
       "      <td>1</td>\n",
       "      <td>1</td>\n",
       "      <td>28</td>\n",
       "      <td>73451872</td>\n",
       "      <td>55507110</td>\n",
       "      <td>523dbd29-f0c5d7eb-09635cf1-1a7de126-44622b1c</td>\n",
       "      <td>True</td>\n",
       "    </tr>\n",
       "    <tr>\n",
       "      <th>2</th>\n",
       "      <td>2</td>\n",
       "      <td>2</td>\n",
       "      <td>37</td>\n",
       "      <td>68870</td>\n",
       "      <td>51526655</td>\n",
       "      <td>78ecaf71-9fdb0b43-b0134402-8c5e739f-2c6c0ea2</td>\n",
       "      <td>True</td>\n",
       "    </tr>\n",
       "    <tr>\n",
       "      <th>3</th>\n",
       "      <td>3</td>\n",
       "      <td>3</td>\n",
       "      <td>38</td>\n",
       "      <td>68870</td>\n",
       "      <td>51526655</td>\n",
       "      <td>14089000-1023e4ed-157da1b0-f14f1dcd-7eaf3cb2</td>\n",
       "      <td>True</td>\n",
       "    </tr>\n",
       "    <tr>\n",
       "      <th>4</th>\n",
       "      <td>4</td>\n",
       "      <td>4</td>\n",
       "      <td>39</td>\n",
       "      <td>68870</td>\n",
       "      <td>57395479</td>\n",
       "      <td>ceb36d05-686e9404-43dfdc4f-e050bf09-89b8d71d</td>\n",
       "      <td>True</td>\n",
       "    </tr>\n",
       "  </tbody>\n",
       "</table>\n",
       "</div>"
      ],
      "text/plain": [
       "   Unnamed: 0  Unnamed: 0.1  Unnamed: 0.1.1  subject_id    rad_id  \\\n",
       "0           0             0              27    73451872  55507110   \n",
       "1           1             1              28    73451872  55507110   \n",
       "2           2             2              37       68870  51526655   \n",
       "3           3             3              38       68870  51526655   \n",
       "4           4             4              39       68870  57395479   \n",
       "\n",
       "                                       dicom_id  dicom_is_available  \n",
       "0  f1a7e903-618a45fe-84eb71e2-73901894-a689d584                True  \n",
       "1  523dbd29-f0c5d7eb-09635cf1-1a7de126-44622b1c                True  \n",
       "2  78ecaf71-9fdb0b43-b0134402-8c5e739f-2c6c0ea2                True  \n",
       "3  14089000-1023e4ed-157da1b0-f14f1dcd-7eaf3cb2                True  \n",
       "4  ceb36d05-686e9404-43dfdc4f-e050bf09-89b8d71d                True  "
      ]
     },
     "metadata": {},
     "output_type": "display_data"
    }
   ],
   "source": [
    "# Get train and test data\n",
    "data_dir = '/scratch/wboag/2019/cxr/cxr-baselines/camera_ready/data'\n",
    "test_df  = pd.read_csv(os.path.join(data_dir, 'test.tsv'), sep='\\t')\n",
    "\n",
    "print(test_df.shape)\n",
    "display(test_df.head())"
   ]
  },
  {
   "cell_type": "code",
   "execution_count": 17,
   "metadata": {},
   "outputs": [],
   "source": [
    "# Where reports are stored\n",
    "reports_path = '/crimea/mimic-cxr/reports'"
   ]
  },
  {
   "cell_type": "code",
   "execution_count": 18,
   "metadata": {},
   "outputs": [
    {
     "name": "stderr",
     "output_type": "stream",
     "text": [
      "99145it [00:19, 5145.02it/s]\n"
     ]
    }
   ],
   "source": [
    "ref_reports = {}\n",
    "for pred_dicom,ref_rad in tqdm.tqdm(zip(test_df.dicom_id,test_df.rad_id)):\n",
    "        \n",
    "    # Get text of report\n",
    "    ref_report_file = os.path.join(reports_path, '%s.txt' % ref_rad)\n",
    "    report = parse_report(ref_report_file)\n",
    "        \n",
    "    #break\n",
    "    ref_reports[pred_dicom] = report['findings']\n"
   ]
  },
  {
   "cell_type": "code",
   "execution_count": 19,
   "metadata": {},
   "outputs": [
    {
     "name": "stdout",
     "output_type": "stream",
     "text": [
      "2019-11-13 02:30:16\n",
      "output/reference.tsv\n",
      "2019-11-13 02:30:17\n"
     ]
    }
   ],
   "source": [
    "print(strftime(\"%Y-%m-%d %H:%M:%S\", gmtime()))\n",
    "\n",
    "pred_dir = 'output'\n",
    "pred_file = os.path.join(pred_dir, 'reference.tsv')\n",
    "print(pred_file)\n",
    "with open(pred_file, 'w') as f:\n",
    "    print('dicom_id\\ttext', file=f)\n",
    "    for dicom_id,generated in sorted(ref_reports.items()):\n",
    "        print('%s\\t%s' % (dicom_id,generated), file=f)\n",
    "        \n",
    "print(strftime(\"%Y-%m-%d %H:%M:%S\", gmtime()))"
   ]
  },
  {
   "cell_type": "code",
   "execution_count": null,
   "metadata": {},
   "outputs": [],
   "source": []
  }
 ],
 "metadata": {
  "kernelspec": {
   "display_name": "Python 3",
   "language": "python",
   "name": "python3"
  },
  "language_info": {
   "codemirror_mode": {
    "name": "ipython",
    "version": 3
   },
   "file_extension": ".py",
   "mimetype": "text/x-python",
   "name": "python",
   "nbconvert_exporter": "python",
   "pygments_lexer": "ipython3",
   "version": "3.5.2"
  }
 },
 "nbformat": 4,
 "nbformat_minor": 2
}
