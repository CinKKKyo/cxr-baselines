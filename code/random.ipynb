{
 "cells": [
  {
   "cell_type": "code",
   "execution_count": 1,
   "metadata": {},
   "outputs": [
    {
     "name": "stderr",
     "output_type": "stream",
     "text": [
      "/scratch/cxr-baselines/cxr-baselines/venv_cxr/lib/python3.5/site-packages/dicom/__init__.py:53: UserWarning: \n",
      "This code is using an older version of pydicom, which is no longer \n",
      "maintained as of Jan 2017.  You can access the new pydicom features and API \n",
      "by installing `pydicom` from PyPI.\n",
      "See 'Transitioning to pydicom 1.x' section at pydicom.readthedocs.org \n",
      "for more information.\n",
      "\n",
      "  warnings.warn(msg)\n"
     ]
    }
   ],
   "source": [
    "from time import gmtime, strftime\n",
    "import numpy as np\n",
    "import pandas as pd\n",
    "import os\n",
    "import dicom\n",
    "from report_parser import parse_report\n",
    "import pickle \n",
    "import tqdm\n",
    "import random"
   ]
  },
  {
   "cell_type": "code",
   "execution_count": 2,
   "metadata": {},
   "outputs": [
    {
     "name": "stdout",
     "output_type": "stream",
     "text": [
      "(228136, 7)\n"
     ]
    },
    {
     "data": {
      "text/html": [
       "<div>\n",
       "<style scoped>\n",
       "    .dataframe tbody tr th:only-of-type {\n",
       "        vertical-align: middle;\n",
       "    }\n",
       "\n",
       "    .dataframe tbody tr th {\n",
       "        vertical-align: top;\n",
       "    }\n",
       "\n",
       "    .dataframe thead th {\n",
       "        text-align: right;\n",
       "    }\n",
       "</style>\n",
       "<table border=\"1\" class=\"dataframe\">\n",
       "  <thead>\n",
       "    <tr style=\"text-align: right;\">\n",
       "      <th></th>\n",
       "      <th>Unnamed: 0</th>\n",
       "      <th>Unnamed: 0.1</th>\n",
       "      <th>Unnamed: 0.1.1</th>\n",
       "      <th>subject_id</th>\n",
       "      <th>rad_id</th>\n",
       "      <th>dicom_id</th>\n",
       "      <th>dicom_is_available</th>\n",
       "    </tr>\n",
       "  </thead>\n",
       "  <tbody>\n",
       "    <tr>\n",
       "      <th>0</th>\n",
       "      <td>0</td>\n",
       "      <td>0</td>\n",
       "      <td>2</td>\n",
       "      <td>70233355</td>\n",
       "      <td>53378012</td>\n",
       "      <td>3108d905-782ffdc0-209309e8-2413eeb4-6bfb958a</td>\n",
       "      <td>True</td>\n",
       "    </tr>\n",
       "    <tr>\n",
       "      <th>1</th>\n",
       "      <td>1</td>\n",
       "      <td>1</td>\n",
       "      <td>3</td>\n",
       "      <td>70233355</td>\n",
       "      <td>53378012</td>\n",
       "      <td>40eab5a8-31446771-08c6b024-2717a65c-41f8c74f</td>\n",
       "      <td>True</td>\n",
       "    </tr>\n",
       "    <tr>\n",
       "      <th>2</th>\n",
       "      <td>2</td>\n",
       "      <td>2</td>\n",
       "      <td>6</td>\n",
       "      <td>78564939</td>\n",
       "      <td>51423061</td>\n",
       "      <td>fc601540-ae89d087-3589ac06-85224a6b-bb5960ce</td>\n",
       "      <td>True</td>\n",
       "    </tr>\n",
       "    <tr>\n",
       "      <th>3</th>\n",
       "      <td>3</td>\n",
       "      <td>3</td>\n",
       "      <td>7</td>\n",
       "      <td>78564939</td>\n",
       "      <td>51423061</td>\n",
       "      <td>9956b6ce-67a4e84b-6038ce80-52428d83-04d83f25</td>\n",
       "      <td>True</td>\n",
       "    </tr>\n",
       "    <tr>\n",
       "      <th>4</th>\n",
       "      <td>4</td>\n",
       "      <td>4</td>\n",
       "      <td>8</td>\n",
       "      <td>71322</td>\n",
       "      <td>51527637</td>\n",
       "      <td>d5072bc4-bb422de8-97f3973a-0d8e5ae0-7c52ac3b</td>\n",
       "      <td>True</td>\n",
       "    </tr>\n",
       "  </tbody>\n",
       "</table>\n",
       "</div>"
      ],
      "text/plain": [
       "   Unnamed: 0  Unnamed: 0.1  Unnamed: 0.1.1  subject_id    rad_id  \\\n",
       "0           0             0               2    70233355  53378012   \n",
       "1           1             1               3    70233355  53378012   \n",
       "2           2             2               6    78564939  51423061   \n",
       "3           3             3               7    78564939  51423061   \n",
       "4           4             4               8       71322  51527637   \n",
       "\n",
       "                                       dicom_id  dicom_is_available  \n",
       "0  3108d905-782ffdc0-209309e8-2413eeb4-6bfb958a                True  \n",
       "1  40eab5a8-31446771-08c6b024-2717a65c-41f8c74f                True  \n",
       "2  fc601540-ae89d087-3589ac06-85224a6b-bb5960ce                True  \n",
       "3  9956b6ce-67a4e84b-6038ce80-52428d83-04d83f25                True  \n",
       "4  d5072bc4-bb422de8-97f3973a-0d8e5ae0-7c52ac3b                True  "
      ]
     },
     "metadata": {},
     "output_type": "display_data"
    },
    {
     "name": "stdout",
     "output_type": "stream",
     "text": [
      "(99145, 7)\n"
     ]
    },
    {
     "data": {
      "text/html": [
       "<div>\n",
       "<style scoped>\n",
       "    .dataframe tbody tr th:only-of-type {\n",
       "        vertical-align: middle;\n",
       "    }\n",
       "\n",
       "    .dataframe tbody tr th {\n",
       "        vertical-align: top;\n",
       "    }\n",
       "\n",
       "    .dataframe thead th {\n",
       "        text-align: right;\n",
       "    }\n",
       "</style>\n",
       "<table border=\"1\" class=\"dataframe\">\n",
       "  <thead>\n",
       "    <tr style=\"text-align: right;\">\n",
       "      <th></th>\n",
       "      <th>Unnamed: 0</th>\n",
       "      <th>Unnamed: 0.1</th>\n",
       "      <th>Unnamed: 0.1.1</th>\n",
       "      <th>subject_id</th>\n",
       "      <th>rad_id</th>\n",
       "      <th>dicom_id</th>\n",
       "      <th>dicom_is_available</th>\n",
       "    </tr>\n",
       "  </thead>\n",
       "  <tbody>\n",
       "    <tr>\n",
       "      <th>0</th>\n",
       "      <td>0</td>\n",
       "      <td>0</td>\n",
       "      <td>27</td>\n",
       "      <td>73451872</td>\n",
       "      <td>55507110</td>\n",
       "      <td>f1a7e903-618a45fe-84eb71e2-73901894-a689d584</td>\n",
       "      <td>True</td>\n",
       "    </tr>\n",
       "    <tr>\n",
       "      <th>1</th>\n",
       "      <td>1</td>\n",
       "      <td>1</td>\n",
       "      <td>28</td>\n",
       "      <td>73451872</td>\n",
       "      <td>55507110</td>\n",
       "      <td>523dbd29-f0c5d7eb-09635cf1-1a7de126-44622b1c</td>\n",
       "      <td>True</td>\n",
       "    </tr>\n",
       "    <tr>\n",
       "      <th>2</th>\n",
       "      <td>2</td>\n",
       "      <td>2</td>\n",
       "      <td>37</td>\n",
       "      <td>68870</td>\n",
       "      <td>51526655</td>\n",
       "      <td>78ecaf71-9fdb0b43-b0134402-8c5e739f-2c6c0ea2</td>\n",
       "      <td>True</td>\n",
       "    </tr>\n",
       "    <tr>\n",
       "      <th>3</th>\n",
       "      <td>3</td>\n",
       "      <td>3</td>\n",
       "      <td>38</td>\n",
       "      <td>68870</td>\n",
       "      <td>51526655</td>\n",
       "      <td>14089000-1023e4ed-157da1b0-f14f1dcd-7eaf3cb2</td>\n",
       "      <td>True</td>\n",
       "    </tr>\n",
       "    <tr>\n",
       "      <th>4</th>\n",
       "      <td>4</td>\n",
       "      <td>4</td>\n",
       "      <td>39</td>\n",
       "      <td>68870</td>\n",
       "      <td>57395479</td>\n",
       "      <td>ceb36d05-686e9404-43dfdc4f-e050bf09-89b8d71d</td>\n",
       "      <td>True</td>\n",
       "    </tr>\n",
       "  </tbody>\n",
       "</table>\n",
       "</div>"
      ],
      "text/plain": [
       "   Unnamed: 0  Unnamed: 0.1  Unnamed: 0.1.1  subject_id    rad_id  \\\n",
       "0           0             0              27    73451872  55507110   \n",
       "1           1             1              28    73451872  55507110   \n",
       "2           2             2              37       68870  51526655   \n",
       "3           3             3              38       68870  51526655   \n",
       "4           4             4              39       68870  57395479   \n",
       "\n",
       "                                       dicom_id  dicom_is_available  \n",
       "0  f1a7e903-618a45fe-84eb71e2-73901894-a689d584                True  \n",
       "1  523dbd29-f0c5d7eb-09635cf1-1a7de126-44622b1c                True  \n",
       "2  78ecaf71-9fdb0b43-b0134402-8c5e739f-2c6c0ea2                True  \n",
       "3  14089000-1023e4ed-157da1b0-f14f1dcd-7eaf3cb2                True  \n",
       "4  ceb36d05-686e9404-43dfdc4f-e050bf09-89b8d71d                True  "
      ]
     },
     "metadata": {},
     "output_type": "display_data"
    }
   ],
   "source": [
    "# Get train and test data\n",
    "data_dir = '/scratch/wboag/2019/cxr/cxr-baselines/camera_ready/data'\n",
    "train_df = pd.read_csv(os.path.join(data_dir,'train.tsv'), sep='\\t')\n",
    "test_df  = pd.read_csv(os.path.join(data_dir, 'test.tsv'), sep='\\t')\n",
    "\n",
    "print(train_df.shape)\n",
    "display(train_df.head())\n",
    "\n",
    "print(test_df.shape)\n",
    "display(test_df.head())"
   ]
  },
  {
   "cell_type": "code",
   "execution_count": 3,
   "metadata": {},
   "outputs": [
    {
     "data": {
      "text/plain": [
       "{'1ebdbf50-86954fde-8df90ca4-4ba64744-6e968542': 51396613,\n",
       " '70435869-e759a079-121fd1c4-c49a7d27-4e8e9dda': 55088759,\n",
       " 'aba507af-093be34b-239c19e6-72ba3cb4-5bbe84c7': 57170456,\n",
       " 'bc3616ab-15422ebc-86477c1b-a15c35ee-baf33823': 54084658,\n",
       " 'd95d1c39-06a8bf97-1e6d2ff2-a9918b85-c0e80a4a': 54150236}"
      ]
     },
     "execution_count": 3,
     "metadata": {},
     "output_type": "execute_result"
    }
   ],
   "source": [
    "# Map each dicom to its rad_id\n",
    "rad_lookup = dict(train_df[['dicom_id','rad_id']].values)\n",
    "dict(list(rad_lookup.items())[:5])"
   ]
  },
  {
   "cell_type": "code",
   "execution_count": 4,
   "metadata": {},
   "outputs": [],
   "source": [
    "# Where reports are stored\n",
    "reports_path = '/crimea/mimic-cxr/reports'"
   ]
  },
  {
   "cell_type": "code",
   "execution_count": 5,
   "metadata": {},
   "outputs": [
    {
     "name": "stderr",
     "output_type": "stream",
     "text": [
      "100%|██████████| 99145/99145 [00:25<00:00, 3881.69it/s]\n"
     ]
    }
   ],
   "source": [
    "generated_reports = {}\n",
    "for pred_dicom in tqdm.tqdm(test_df.dicom_id):\n",
    "    #print(pred_dicom)\n",
    "    found = False\n",
    "    while not found:\n",
    "        nearest_dicom = random.choice(train_df.dicom_id)\n",
    "        nearest_train_rad_id = rad_lookup[nearest_dicom]\n",
    "        #print('\\t', nearest_dicom)\n",
    "        \n",
    "        # Get text of report\n",
    "        nearest_train_report_file = os.path.join(reports_path, '%s.txt' % nearest_train_rad_id)\n",
    "        report = parse_report(nearest_train_report_file)\n",
    "        \n",
    "        # If the report doesn't have a findings section, then get the next-closest report\n",
    "        if 'findings' in report:\n",
    "            found = True\n",
    "        \n",
    "    #break\n",
    "    generated_reports[pred_dicom] = report['findings']\n"
   ]
  },
  {
   "cell_type": "code",
   "execution_count": 6,
   "metadata": {},
   "outputs": [
    {
     "name": "stdout",
     "output_type": "stream",
     "text": [
      "2019-11-13 02:29:24\n",
      "output/random.tsv\n",
      "2019-11-13 02:29:24\n"
     ]
    }
   ],
   "source": [
    "print(strftime(\"%Y-%m-%d %H:%M:%S\", gmtime()))\n",
    "\n",
    "pred_dir = 'output'\n",
    "pred_file = os.path.join(pred_dir, 'random.tsv')\n",
    "print(pred_file)\n",
    "with open(pred_file, 'w') as f:\n",
    "    print('dicom_id\\tgenerated', file=f)\n",
    "    for dicom_id,generated in sorted(generated_reports.items()):\n",
    "        print('%s\\t%s' % (dicom_id,generated), file=f)\n",
    "        \n",
    "print(strftime(\"%Y-%m-%d %H:%M:%S\", gmtime()))"
   ]
  },
  {
   "cell_type": "code",
   "execution_count": null,
   "metadata": {},
   "outputs": [],
   "source": []
  }
 ],
 "metadata": {
  "kernelspec": {
   "display_name": "Python 3",
   "language": "python",
   "name": "python3"
  },
  "language_info": {
   "codemirror_mode": {
    "name": "ipython",
    "version": 3
   },
   "file_extension": ".py",
   "mimetype": "text/x-python",
   "name": "python",
   "nbconvert_exporter": "python",
   "pygments_lexer": "ipython3",
   "version": "3.5.2"
  }
 },
 "nbformat": 4,
 "nbformat_minor": 2
}
