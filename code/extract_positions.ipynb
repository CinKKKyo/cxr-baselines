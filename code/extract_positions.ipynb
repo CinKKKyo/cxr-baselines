{
 "cells": [
  {
   "cell_type": "code",
   "execution_count": 1,
   "metadata": {},
   "outputs": [
    {
     "name": "stderr",
     "output_type": "stream",
     "text": [
      "/scratch/cxr-baselines/cxr-baselines/venv_cxr/lib/python3.5/site-packages/dicom/__init__.py:53: UserWarning: \n",
      "This code is using an older version of pydicom, which is no longer \n",
      "maintained as of Jan 2017.  You can access the new pydicom features and API \n",
      "by installing `pydicom` from PyPI.\n",
      "See 'Transitioning to pydicom 1.x' section at pydicom.readthedocs.org \n",
      "for more information.\n",
      "\n",
      "  warnings.warn(msg)\n"
     ]
    }
   ],
   "source": [
    "import numpy as np\n",
    "import dicom\n",
    "import pandas as pd\n",
    "import os\n",
    "import matplotlib.pyplot as pl\n",
    "from report_parser import parse_report\n",
    "from PIL import Image\n",
    "import tqdm\n",
    "from collections import defaultdict\n",
    "import pickle\n",
    "import gzip\n",
    "import random\n",
    "\n",
    "from report_parser import parse_report"
   ]
  },
  {
   "cell_type": "code",
   "execution_count": 2,
   "metadata": {},
   "outputs": [
    {
     "name": "stdout",
     "output_type": "stream",
     "text": [
      "images:  473064\n",
      "reports: 206574\n"
     ]
    }
   ],
   "source": [
    "# data stored on our server\n",
    "csv_file_path = '/crimea/mimic-cxr/cache/mimic-cxr-map.csv'\n",
    "images_path = '/crimea/mimic-cxr/images'\n",
    "reports_path = '/crimea/mimic-cxr/reports'\n",
    "\n",
    "image_files  = set(os.listdir(images_path))\n",
    "report_files = set(os.listdir(reports_path))\n",
    "\n",
    "print('images:  %6d' % len( image_files)) #  91664\n",
    "print('reports: %6d' % len(report_files)) # 206574"
   ]
  },
  {
   "cell_type": "code",
   "execution_count": 3,
   "metadata": {},
   "outputs": [
    {
     "name": "stdout",
     "output_type": "stream",
     "text": [
      "(473057, 4)\n"
     ]
    },
    {
     "data": {
      "text/html": [
       "<div>\n",
       "<style scoped>\n",
       "    .dataframe tbody tr th:only-of-type {\n",
       "        vertical-align: middle;\n",
       "    }\n",
       "\n",
       "    .dataframe tbody tr th {\n",
       "        vertical-align: top;\n",
       "    }\n",
       "\n",
       "    .dataframe thead th {\n",
       "        text-align: right;\n",
       "    }\n",
       "</style>\n",
       "<table border=\"1\" class=\"dataframe\">\n",
       "  <thead>\n",
       "    <tr style=\"text-align: right;\">\n",
       "      <th></th>\n",
       "      <th>subject_id</th>\n",
       "      <th>rad_id</th>\n",
       "      <th>dicom_id</th>\n",
       "      <th>dicom_is_available</th>\n",
       "    </tr>\n",
       "  </thead>\n",
       "  <tbody>\n",
       "    <tr>\n",
       "      <th>0</th>\n",
       "      <td>70233355</td>\n",
       "      <td>52727485</td>\n",
       "      <td>3b9565f5-69ab0d33-1a9d2d1b-bb09c424-7f0243e6</td>\n",
       "      <td>True</td>\n",
       "    </tr>\n",
       "    <tr>\n",
       "      <th>1</th>\n",
       "      <td>70233355</td>\n",
       "      <td>52727485</td>\n",
       "      <td>8074bd10-62acdde0-3df2608b-13ca2322-09ce372c</td>\n",
       "      <td>True</td>\n",
       "    </tr>\n",
       "    <tr>\n",
       "      <th>2</th>\n",
       "      <td>70233355</td>\n",
       "      <td>53378012</td>\n",
       "      <td>3108d905-782ffdc0-209309e8-2413eeb4-6bfb958a</td>\n",
       "      <td>True</td>\n",
       "    </tr>\n",
       "    <tr>\n",
       "      <th>3</th>\n",
       "      <td>70233355</td>\n",
       "      <td>53378012</td>\n",
       "      <td>40eab5a8-31446771-08c6b024-2717a65c-41f8c74f</td>\n",
       "      <td>True</td>\n",
       "    </tr>\n",
       "    <tr>\n",
       "      <th>4</th>\n",
       "      <td>70233355</td>\n",
       "      <td>55587989</td>\n",
       "      <td>cef1a7ea-8c7df75c-41070128-7cdf5c89-23682e1b</td>\n",
       "      <td>True</td>\n",
       "    </tr>\n",
       "  </tbody>\n",
       "</table>\n",
       "</div>"
      ],
      "text/plain": [
       "   subject_id    rad_id                                      dicom_id  \\\n",
       "0    70233355  52727485  3b9565f5-69ab0d33-1a9d2d1b-bb09c424-7f0243e6   \n",
       "1    70233355  52727485  8074bd10-62acdde0-3df2608b-13ca2322-09ce372c   \n",
       "2    70233355  53378012  3108d905-782ffdc0-209309e8-2413eeb4-6bfb958a   \n",
       "3    70233355  53378012  40eab5a8-31446771-08c6b024-2717a65c-41f8c74f   \n",
       "4    70233355  55587989  cef1a7ea-8c7df75c-41070128-7cdf5c89-23682e1b   \n",
       "\n",
       "   dicom_is_available  \n",
       "0                True  \n",
       "1                True  \n",
       "2                True  \n",
       "3                True  \n",
       "4                True  "
      ]
     },
     "metadata": {},
     "output_type": "display_data"
    },
    {
     "name": "stdout",
     "output_type": "stream",
     "text": [
      "unique subjects:  63478\n",
      "unique     rads: 206563\n",
      "unique   dicoms: 473057\n"
     ]
    }
   ],
   "source": [
    "df =  pd.read_csv(csv_file_path, sep=',', header=0)\n",
    "df = df.loc[df['dicom_is_available'],:]\n",
    "df.reset_index()\n",
    "print(df.shape)                                             # (473057, 4)\n",
    "display(df.head())\n",
    "\n",
    "print('unique subjects: %6d' % len(set(df['subject_id'])))  # unique subjects:  63478\n",
    "print('unique     rads: %6d' % len(set(df[    'rad_id'])))  # unique     rads: 206563\n",
    "print('unique   dicoms: %6d' % len(set(df[  'dicom_id'])))  # unique   dicoms: 473057"
   ]
  },
  {
   "cell_type": "code",
   "execution_count": 8,
   "metadata": {},
   "outputs": [
    {
     "name": "stderr",
     "output_type": "stream",
     "text": [
      "100%|██████████| 10/10 [00:00<00:00, 10.93it/s]\n"
     ]
    }
   ],
   "source": [
    "positions = {}\n",
    "\n",
    "columns = df.columns\n",
    "for vals in tqdm.tqdm(df.values):\n",
    "    row = dict(zip(columns,vals))\n",
    "    dicom_file  = str(row['dicom_id'])+'.dcm.gz'\n",
    "    report_file = str(row['rad_id'])+'.txt'\n",
    "    if (dicom_file in image_files) and (report_file in report_files):\n",
    "        \n",
    "        # only AP images\n",
    "        dicom_path = os.path.join(images_path,dicom_file)\n",
    "        dicom_img = gzip.open(dicom_path)\n",
    "        plan = dicom.read_file(dicom_img, stop_before_pixels=False)\n",
    "        view_position = plan.ViewPosition\n",
    "        \n",
    "        dicom_id = dicom_file.split('.')[0]\n",
    "        positions[dicom_id] = view_position\n"
   ]
  },
  {
   "cell_type": "code",
   "execution_count": 9,
   "metadata": {},
   "outputs": [],
   "source": [
    "with open('/crimea/wboag/2019/cxr/view_positions.pkl', 'wb') as f:\n",
    "    pickle.dump(positions, f)"
   ]
  },
  {
   "cell_type": "code",
   "execution_count": null,
   "metadata": {},
   "outputs": [],
   "source": []
  }
 ],
 "metadata": {
  "kernelspec": {
   "display_name": "Python 3",
   "language": "python",
   "name": "python3"
  },
  "language_info": {
   "codemirror_mode": {
    "name": "ipython",
    "version": 3
   },
   "file_extension": ".py",
   "mimetype": "text/x-python",
   "name": "python",
   "nbconvert_exporter": "python",
   "pygments_lexer": "ipython3",
   "version": "3.5.2"
  }
 },
 "nbformat": 4,
 "nbformat_minor": 2
}
