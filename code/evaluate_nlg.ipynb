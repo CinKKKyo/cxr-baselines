{
 "cells": [
  {
   "cell_type": "code",
   "execution_count": 1,
   "metadata": {},
   "outputs": [
    {
     "name": "stderr",
     "output_type": "stream",
     "text": [
      "/scratch/cxr-baselines/cxr-baselines/venv_cxr/lib/python3.5/site-packages/dicom/__init__.py:53: UserWarning: \n",
      "This code is using an older version of pydicom, which is no longer \n",
      "maintained as of Jan 2017.  You can access the new pydicom features and API \n",
      "by installing `pydicom` from PyPI.\n",
      "See 'Transitioning to pydicom 1.x' section at pydicom.readthedocs.org \n",
      "for more information.\n",
      "\n",
      "  warnings.warn(msg)\n"
     ]
    }
   ],
   "source": [
    "import numpy as np\n",
    "import pandas as pd\n",
    "import os\n",
    "import dicom\n",
    "from report_parser import parse_report\n",
    "from collections import defaultdict\n",
    "import pickle \n",
    "import tqdm\n",
    "import sys\n",
    "from time import strftime, gmtime\n",
    "\n",
    "metrics_dir = '/scratch/wboag/2019/cxr/cxr-baselines/spring2019/scoring'\n",
    "if metrics_dir not in sys.path:\n",
    "    sys.path.append(metrics_dir)\n",
    "    \n",
    "from pycocoevalcap3.bleu.bleu   import Bleu\n",
    "from pycocoevalcap3.cider.cider import Cider"
   ]
  },
  {
   "cell_type": "code",
   "execution_count": 2,
   "metadata": {},
   "outputs": [],
   "source": [
    "df_gt     = pd.read_csv('/scratch/wboag/2019/cxr/cxr-baselines/camera_ready/output/reference.tsv', sep='\\t')\n",
    "df_3gram  = pd.read_csv('/scratch/wboag/2019/cxr/cxr-baselines/camera_ready/output/3-gram.tsv'   , sep='\\t')\n",
    "df_knn    = pd.read_csv('/scratch/wboag/2019/cxr/cxr-baselines/camera_ready/output/knn.tsv'      , sep='\\t')\n",
    "df_random = pd.read_csv('/scratch/wboag/2019/cxr/cxr-baselines/camera_ready/output/random.tsv'   , sep='\\t')\n",
    "\n",
    "references  = {k:[v] for k,v in    df_gt[['dicom_id','text'     ]].values}\n",
    "pred_3gram  = {k:[v] for k,v in df_3gram[['dicom_id','generated']].values}\n",
    "pred_knn    = {k:[v] for k,v in   df_knn[['dicom_id','generated']].values}\n",
    "pred_random = {k:[v] for k,v in df_random[['dicom_id','generated']].values}\n",
    "\n",
    "methods = {'random':pred_random, '3gram':pred_3gram, 'knn':pred_knn}"
   ]
  },
  {
   "cell_type": "code",
   "execution_count": 3,
   "metadata": {},
   "outputs": [
    {
     "name": "stdout",
     "output_type": "stream",
     "text": [
      "2019-11-13 16:45:56\n",
      "\tknn        (n= 99145): [0.28070485699305964, 0.15001069501054853, 0.09054338889074229, 0.058481876752902125]\n",
      "\trandom     (n= 99145): [0.25361669492715455, 0.1265504006244579, 0.071727056537436, 0.043635655662199804]\n",
      "\t3gram      (n= 99145): [0.22583162678533808, 0.11722725423315455, 0.06874108124726297, 0.04182679357710936]\n",
      "2019-11-13 17:01:38\n"
     ]
    }
   ],
   "source": [
    "print(strftime(\"%Y-%m-%d %H:%M:%S\", gmtime()))\n",
    "\n",
    "for method,pred in methods.items():\n",
    "    \n",
    "    # Get just the predictions from this method\n",
    "    ids = list(pred.keys())\n",
    "    pred = {k:v for k,v in       pred.items() if (k in ids)}\n",
    "    ref  = {k:v for k,v in references.items() if (k in ids)}\n",
    "\n",
    "    bleu_scorer = Bleu(4)\n",
    "    bleu_score = bleu_scorer.compute_score(ref, pred)\n",
    "    print('\\t%-10s (n=%6d):' % (method,len(ids)), bleu_score[0])\n",
    "\n",
    "print(strftime(\"%Y-%m-%d %H:%M:%S\", gmtime()))"
   ]
  },
  {
   "cell_type": "code",
   "execution_count": 4,
   "metadata": {},
   "outputs": [
    {
     "name": "stdout",
     "output_type": "stream",
     "text": [
      "2019-11-13 17:01:38\n",
      "\tknn        (n= 99145): 0.09213673030398213\n",
      "\trandom     (n= 99145): 0.0461660101048\n",
      "\t3gram      (n= 99145): 0.018500838202221367\n",
      "2019-11-13 17:24:14\n"
     ]
    }
   ],
   "source": [
    "print(strftime(\"%Y-%m-%d %H:%M:%S\", gmtime()))\n",
    "\n",
    "for method,pred in methods.items():\n",
    "    \n",
    "    # Get just the predictions from this method\n",
    "    ids = list(pred.keys())\n",
    "    pred = {k:v for k,v in       pred.items() if (k in ids)}\n",
    "    ref  = {k:v for k,v in references.items() if (k in ids)}\n",
    "\n",
    "    cider_scorer = Cider(4)\n",
    "    cider_score = cider_scorer.compute_score(ref, pred)\n",
    "    print('\\t%-10s (n=%6d):' % (method,len(ids)), cider_score[0])\n",
    "\n",
    "print(strftime(\"%Y-%m-%d %H:%M:%S\", gmtime()))"
   ]
  },
  {
   "cell_type": "code",
   "execution_count": null,
   "metadata": {},
   "outputs": [],
   "source": []
  }
 ],
 "metadata": {
  "kernelspec": {
   "display_name": "Python 3",
   "language": "python",
   "name": "python3"
  },
  "language_info": {
   "codemirror_mode": {
    "name": "ipython",
    "version": 3
   },
   "file_extension": ".py",
   "mimetype": "text/x-python",
   "name": "python",
   "nbconvert_exporter": "python",
   "pygments_lexer": "ipython3",
   "version": "3.5.2"
  }
 },
 "nbformat": 4,
 "nbformat_minor": 2
}
